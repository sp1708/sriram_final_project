{
  "cells": [
    {
      "cell_type": "code",
      "execution_count": null,
      "metadata": {
        "id": "UrnDFodi6uVv"
      },
      "outputs": [],
      "source": [
        "from matplotlib import pyplot as plt\n",
        "from sklearn import datasets\n",
        "from sklearn.tree import DecisionTreeClassifier \n",
        "from sklearn import tree"
      ]
    },
    {
      "cell_type": "code",
      "execution_count": null,
      "metadata": {
        "id": "c6xEYdPp7RLF"
      },
      "outputs": [],
      "source": [
        "iris = datasets.load_iris()\n",
        "X = iris.data\n",
        "y = iris.target"
      ]
    },
    {
      "cell_type": "code",
      "execution_count": null,
      "metadata": {
        "id": "CrIsMWk07T_i"
      },
      "outputs": [],
      "source": [
        "clf = DecisionTreeClassifier(random_state=24)\n",
        "model = clf.fit(X, y)"
      ]
    },
    {
      "cell_type": "code",
      "execution_count": null,
      "metadata": {
        "colab": {
          "base_uri": "https://localhost:8080/",
          "height": 937
        },
        "id": "IClxqk1h7XLx",
        "outputId": "9ce41383-b3b2-41b5-c04b-662be9c6b525"
      },
      "outputs": [],
      "source": [
        "fig = plt.figure(figsize=(20,20))\n",
        "_ = tree.plot_tree(clf, feature_names=iris.feature_names, class_names=iris.target_names, filled=True)\n"
      ]
    },
    {
      "cell_type": "code",
      "execution_count": null,
      "metadata": {},
      "outputs": [],
      "source": [
        "clf = DecisionTreeClassifier(random_state=24, max_depth = 4, min_samples_leaf = 2)\n",
        "model = clf.fit(X, y)\n",
        "\n",
        "fig = plt.figure(figsize=(20,20))\n",
        "_ = tree.plot_tree(clf, feature_names=iris.feature_names, class_names=iris.target_names, filled=True)"
      ]
    },
    {
      "cell_type": "code",
      "execution_count": null,
      "metadata": {},
      "outputs": [],
      "source": []
    }
  ],
  "metadata": {
    "colab": {
      "name": "dt_iris_tree_graph.ipynb",
      "provenance": []
    },
    "kernelspec": {
      "display_name": "base",
      "language": "python",
      "name": "python3"
    },
    "language_info": {
      "codemirror_mode": {
        "name": "ipython",
        "version": 3
      },
      "file_extension": ".py",
      "mimetype": "text/x-python",
      "name": "python",
      "nbconvert_exporter": "python",
      "pygments_lexer": "ipython3",
      "version": "3.8.5"
    },
    "vscode": {
      "interpreter": {
        "hash": "eba38789ab565d76f074e8fa97ecc7da63eb4a5e1ba28cc348f16f5285783ca7"
      }
    }
  },
  "nbformat": 4,
  "nbformat_minor": 0
}
