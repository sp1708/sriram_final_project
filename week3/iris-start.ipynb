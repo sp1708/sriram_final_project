{
 "cells": [
  {
   "cell_type": "code",
   "execution_count": 1,
   "metadata": {},
   "outputs": [],
   "source": [
    "import pandas as pd\n",
    "import numpy as np"
   ]
  },
  {
   "cell_type": "code",
   "execution_count": 2,
   "metadata": {},
   "outputs": [],
   "source": [
    "iris_data = pd.read_csv('iris.csv', names=[\"sepal-length\", \"sepal-width\", \"petal-length\", \"petal-width\", \"class\"])"
   ]
  },
  {
   "cell_type": "markdown",
   "metadata": {},
   "source": [
    "#### Task 1 \n",
    "Build a KNN (K=1) model using the whole data set as the training set. Predict what type of iris is the one with measurement as [5.1, 2.8, 3.1, 2.9], which is sepal-length = 5.1, sepal-width = 2.8, petal-length = 3.1, petal-width = 2.9?"
   ]
  },
  {
   "attachments": {},
   "cell_type": "markdown",
   "metadata": {},
   "source": [
    "#### Task 2\n",
    "Evaluate the model you got from Task 1 using the same training data set. Print out the confusion matrix, and precision, recall, f1-score scores. "
   ]
  },
  {
   "attachments": {},
   "cell_type": "markdown",
   "metadata": {},
   "source": [
    "#### Task 3\n",
    "Now, we will slip the original dataset into a training set and a test set. Build a KNN (K=1) model using the first 100 samples as the training set, and the remaining 50 samples as the test set. Train the model on the training set and use the test set to evaluate the model. Print out the confusion matrix, and precision, recall, f1-score scores. "
   ]
  },
  {
   "attachments": {},
   "cell_type": "markdown",
   "metadata": {},
   "source": [
    "#### Task 4\n",
    "We will use the [train_test_split](https://scikit-learn.org/stable/modules/generated/sklearn.model_selection.train_test_split.html) function to prepare the training set and test set with a 50-50 split Repeat the same task of model training and model evaluaiton in Task 3. "
   ]
  },
  {
   "attachments": {},
   "cell_type": "markdown",
   "metadata": {},
   "source": [
    "#### Task 5\n",
    "\n",
    "Use the [cross-validation](https://scikit-learn.org/stable/modules/generated/sklearn.model_selection.cross_validate.html#sklearn.model_selection.cross_validate) function to evaluate the training results. You need to \n",
    "\n",
    "- Use cross-validation (3 fold) to determine which K (k = 3, 4, 5, 6, 7) give the best performance in our KNN model using the training data. \n",
    "\n",
    "- Use this K value to train a KNN classifier. Test the classifier on the test data and produce the precision, recall and f1-score for all three classes. "
   ]
  }
 ],
 "metadata": {
  "interpreter": {
   "hash": "eba38789ab565d76f074e8fa97ecc7da63eb4a5e1ba28cc348f16f5285783ca7"
  },
  "kernelspec": {
   "display_name": "Python 3",
   "language": "python",
   "name": "python3"
  },
  "language_info": {
   "codemirror_mode": {
    "name": "ipython",
    "version": 3
   },
   "file_extension": ".py",
   "mimetype": "text/x-python",
   "name": "python",
   "nbconvert_exporter": "python",
   "pygments_lexer": "ipython3",
   "version": "3.8.5"
  },
  "orig_nbformat": 4
 },
 "nbformat": 4,
 "nbformat_minor": 2
}
