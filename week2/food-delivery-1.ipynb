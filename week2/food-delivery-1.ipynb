{
 "cells": [
  {
   "cell_type": "markdown",
   "metadata": {},
   "source": [
    "#### ML Model Development\n",
    "\n",
    "In this notebook we start from a simple machine learning problem, John's food delivery problem, and shape a machine learning solution with __sklearn__ library. Given John's dataset of food delivery recordings, the task is to predict whether an order will be on time or delayed. \n",
    "\n",
    "1. <a href=\"#1\">The dataset</a>\n",
    "2. <a href=\"#2\">Select features to build the model</a>\n",
    "3. <a href=\"#3\">Train a  classifier</a> ([__K Nearest Neighbors Classifier__](https://scikit-learn.org/stable/modules/generated/sklearn.neighbors.KNeighborsClassifier.html))\n",
    "4. <a href=\"#4\">Use the trained classifier to make predictions</a>\n",
    "5. <a href=\"#5\">Model evaluation</a>\n",
    "6. <a href=\"#6\">Training and test datasets</a>\n"
   ]
  },
  {
   "cell_type": "markdown",
   "metadata": {},
   "source": [
    "## 1. <a id=\"1\">The dataset</a>\n",
    "\n",
    "Let's enter John's food deliveries dataset here, using the __numpy__ high-performance array-processing package. "
   ]
  },
  {
   "cell_type": "code",
   "execution_count": null,
   "metadata": {},
   "outputs": [],
   "source": [
    "import numpy as np\n",
    "\n",
    "# This is John's data\n",
    "data = np.array([[0, 1, 5, 1, 0],  # record of John's 1st food delivery\n",
    "                [1, 0, 7, 0, 1],   # record of John's 2nd food delivery\n",
    "                [0, 1, 2, 1, 0],   # record of John's 3rd food delivery\n",
    "                [1, 1, 4.2, 1, 0], # record of John's 4th food delivery\n",
    "                [0, 0, 7.8, 0, 1], # ...\n",
    "                [1, 0, 3.9, 1, 0],\n",
    "                [0, 1, 4, 1, 0],\n",
    "                [1, 1, 2, 0, 0],\n",
    "                [0, 0, 3.5, 0, 1],\n",
    "                [1, 0, 2.6, 1, 0],\n",
    "                [0, 0, 4.1, 0, 1],\n",
    "                [0, 1, 1.5, 0, 1],\n",
    "                [1, 1, 1.75, 1, 0],\n",
    "                [1, 0, 1.3, 0, 0],\n",
    "                [1, 1, 2.1, 0, 0],\n",
    "                [1, 1, 0.2, 1, 0],\n",
    "                [1, 1, 5.2, 0, 1],\n",
    "                [0, 1, 2, 1, 0],\n",
    "                [1, 0, 5.5, 0, 1],\n",
    "                [0, 0, 2, 1, 0],\n",
    "                [1, 1, 1.7, 0, 0],\n",
    "                [0, 1, 3, 1, 1],\n",
    "                [1, 1, 1.9, 1, 0],\n",
    "                [0, 1, 3.1, 0, 1],\n",
    "                [0, 1, 2.3, 0, 0],\n",
    "                [0, 0, 1.1, 1, 0],\n",
    "                [1, 1, 2.5, 1, 1],\n",
    "                [1, 1, 5, 0, 1],\n",
    "                [1, 0, 7.5, 1, 1],\n",
    "                [0, 0, 0.5, 1, 0],\n",
    "                [0, 0, 1.5, 1, 0],\n",
    "                [1, 0, 3.2, 1, 0],\n",
    "                [0, 0, 2.15, 1, 0],\n",
    "                [1, 1, 4.2, 0, 1],\n",
    "                [1, 0, 6.5, 0, 1],\n",
    "                [1, 0, 0.5, 0, 0],\n",
    "                [0, 0, 3.5, 0, 1],\n",
    "                [0, 0, 1.75, 0, 0],\n",
    "                [1, 1, 5, 0, 1],\n",
    "                [0, 0, 2, 1, 0],\n",
    "                [0, 1, 1.3, 1, 1],\n",
    "                [0, 1, 0.2, 0, 0],\n",
    "                [1, 1, 2.2, 0, 0],\n",
    "                [0, 1, 1.2, 1, 0],\n",
    "                [1, 1, 4.2, 0, 1]])\n",
    "\n",
    "print(data)"
   ]
  },
  {
   "cell_type": "markdown",
   "metadata": {},
   "source": [
    "Let's now write our toy dataset into a __pandas__ dataframe, labeling the columns for easier access. "
   ]
  },
  {
   "cell_type": "code",
   "execution_count": null,
   "metadata": {},
   "outputs": [],
   "source": [
    "import pandas as pd\n",
    "\n",
    "# Create the dataframe with this data, labeling the columns\n",
    "delivery_data = pd.DataFrame(data, columns=[\"bad_weather\", \"is_rush_hour\", \"mile_distance\", \"urban_address\", \"late\"])\n"
   ]
  },
  {
   "cell_type": "markdown",
   "metadata": {},
   "source": [
    "Looking at our dataset as a dataframe:"
   ]
  },
  {
   "cell_type": "code",
   "execution_count": null,
   "metadata": {},
   "outputs": [],
   "source": [
    "# Print the first 5 rows\n",
    "delivery_data.head(15)"
   ]
  },
  {
   "cell_type": "markdown",
   "metadata": {},
   "source": [
    "Dataframes are not just more meaningful to look at, are also powerful, expressive and flexible data structures that make data manipulation and analysis much easier. "
   ]
  },
  {
   "cell_type": "markdown",
   "metadata": {},
   "source": [
    "## 2. <a id=\"2\">Select features to build the model</a>\n",
    "\n",
    "Let's start using the dataframe, by first grabing the input and output of our machine learning problem."
   ]
  },
  {
   "cell_type": "code",
   "execution_count": null,
   "metadata": {},
   "outputs": [],
   "source": [
    "input_data = delivery_data[[\"bad_weather\", \"is_rush_hour\", \"mile_distance\", \"urban_address\"]]\n",
    "target = delivery_data[\"late\"]"
   ]
  },
  {
   "cell_type": "markdown",
   "metadata": {},
   "source": [
    "On this dataset containing samples of each of the two possible classes, we fit an estimator from the __sklearn__ library to best capture the relationship between the input and the output, and further explore that learned relationship to predict the classes to which unseen samples belong.\n",
    "\n",
    "In __sklearn__, an estimator is a Python object that implements the methods __.fit()__ and __.predict()__. The estimator’s constructor takes as arguments the model’s parameters.\n"
   ]
  },
  {
   "cell_type": "markdown",
   "metadata": {},
   "source": [
    "## 3. <a id=\"3\">Train a classifier</a>\n",
    "\n",
    "\n",
    "Let's fit a K Nearest Neighbors (KNN) model to our data. We use the sklearn library's [KNeighborsClassifier](https://scikit-learn.org/stable/modules/generated/sklearn.neighbors.KNeighborsClassifier.html) here."
   ]
  },
  {
   "cell_type": "code",
   "execution_count": null,
   "metadata": {},
   "outputs": [],
   "source": [
    "from sklearn.neighbors import KNeighborsClassifier\n",
    "\n",
    "# Use n_neighbors = 1\n",
    "# This means the KNN will consider the \"closest\" record to make a decision.\n",
    "classifier = KNeighborsClassifier(n_neighbors = 1)\n",
    "\n",
    "# Fit the model to our data\n",
    "classifier.fit(input_data, target)"
   ]
  },
  {
   "cell_type": "markdown",
   "metadata": {},
   "source": [
    "## 4. <a id=\"4\">Use the trained classifier to make predictions</a>\n",
    "\n",
    "Let's make some prediction with our fitted model. Assume we have the following data:"
   ]
  },
  {
   "cell_type": "code",
   "execution_count": null,
   "metadata": {},
   "outputs": [],
   "source": [
    "import numpy as np\n",
    "\n",
    "some_data = np.array([[0, 0, 2.1, 1]]) # bad_weather->0, is_rush_hour->0, mile_distance->2.1 and urban_address->1\n",
    "\n",
    "# Use the fitted model to make predictions on new data\n",
    "print(classifier.predict(some_data))"
   ]
  },
  {
   "cell_type": "markdown",
   "metadata": {},
   "source": [
    "We predicted this delivery to be on time."
   ]
  },
  {
   "cell_type": "markdown",
   "metadata": {},
   "source": [
    "We can also predict multiple records, as shown below."
   ]
  },
  {
   "cell_type": "code",
   "execution_count": null,
   "metadata": {},
   "outputs": [],
   "source": [
    "import numpy as np\n",
    "\n",
    "some_data = np.array([[0, 0, 2.1, 1], # bad_weather->0, is_rush_hour->0, mile_distance->2.1 and urban_address->1\n",
    "                 [0, 1, 5, 0],   # bad_weather->0, is_rush_hour->1, mile_distance->5.0 and urban_address->0\n",
    "                 [1, 1, 3.1, 1]  # bad_weather->1, is_rush_hour->1, mile_distance->3.1 and urban_address->1\n",
    "                ])\n",
    "\n",
    "# Use the fitted model to make predictions on more new data\n",
    "print(classifier.predict(some_data))"
   ]
  },
  {
   "cell_type": "markdown",
   "metadata": {},
   "source": [
    "The last delivery is predicted to be late. The first two will be on time (Hopefully!)"
   ]
  },
  {
   "cell_type": "markdown",
   "metadata": {},
   "source": [
    "## 5. <a id=\"5\">Model evaluation</a>\n",
    "\n",
    "__How do we know whether our predictions were good or bad predictions?__ <br/>\n",
    "If we don't have the correct label for this input, we won't know. Similarly, we won't have any idea about how good this model is. \n",
    "\n",
    "One thing we can do is to test the model with the data we used to train it, and use sklearn's metrics functions to examine the performance of the classifier."
   ]
  },
  {
   "cell_type": "code",
   "execution_count": null,
   "metadata": {},
   "outputs": [],
   "source": [
    "# Use the fitted model to make predictions on our training dataset\n",
    "predictions = classifier.predict(input_data)\n"
   ]
  },
  {
   "cell_type": "markdown",
   "metadata": {},
   "source": [
    "__Confusion matrix__: The diagonals show us correct classifications. Each row and column belongs to a class (late and on time). The first column and row correspond to \"on time\" case, the second column-rows are \"late\" cases.\n"
   ]
  },
  {
   "cell_type": "code",
   "execution_count": null,
   "metadata": {},
   "outputs": [],
   "source": [
    "from sklearn.metrics import confusion_matrix\n",
    "\n",
    "print(confusion_matrix(target, predictions))"
   ]
  },
  {
   "cell_type": "markdown",
   "metadata": {},
   "source": [
    "When we look at the confusion matrix, we can quickly see that all predictions were correct, so our classifier should have a high score.\n",
    "\n",
    "__Classification metrics__: We use here the __accuracy__ metric, that measures how correctly the trained model predicts the late or not late outcomes. Let's look at the classification report and the accuracy score below."
   ]
  },
  {
   "cell_type": "code",
   "execution_count": null,
   "metadata": {},
   "outputs": [],
   "source": [
    "from sklearn.metrics import classification_report\n",
    "from sklearn.metrics import accuracy_score\n",
    "\n",
    "print(classification_report(target, predictions))\n",
    "\n",
    "print(\"Accuracy:\", accuracy_score(target, predictions))\n"
   ]
  },
  {
   "cell_type": "markdown",
   "metadata": {},
   "source": [
    "Indeed, we predicted all outcomes with 100% accuracy!"
   ]
  },
  {
   "cell_type": "markdown",
   "metadata": {},
   "source": [
    "## 6. <a id=\"6\">Training and test datasets</a>\n",
    "\n",
    "John's model worked with 100% accuracy on the whole dataset. This might seem promising, but this doesn't tell us anything about performance on future orders. One way to test whether this model works on new \"unseen\" orders, is to reserve some data from out original dataset for test purposes. \n",
    "\n",
    "__Let's split our data into two sets: Training (85%) and Test (15%)__. This will give us 38 training records and 7 test records (of the total 45 records)."
   ]
  },
  {
   "cell_type": "code",
   "execution_count": null,
   "metadata": {
    "scrolled": true
   },
   "outputs": [],
   "source": [
    "delivery_data.shape"
   ]
  },
  {
   "cell_type": "code",
   "execution_count": null,
   "metadata": {},
   "outputs": [],
   "source": [
    "# Let's split our data into two sets: Training (85%) and Test (15%)\n",
    "# This gives us 38 training records and 7 test records (total 45 records)\n",
    "\n",
    "training_data = delivery_data.iloc[:38, :] # First 38\n",
    "test_data = delivery_data.iloc[38:, :] # Remaining\n",
    "\n",
    "# Print the first 5 rows\n",
    "training_data.head()"
   ]
  },
  {
   "cell_type": "markdown",
   "metadata": {},
   "source": [
    "Fitting the KNN on training dataset this time."
   ]
  },
  {
   "cell_type": "code",
   "execution_count": null,
   "metadata": {},
   "outputs": [],
   "source": [
    "from sklearn.neighbors import KNeighborsClassifier\n",
    "\n",
    "X_train = training_data[[\"bad_weather\", \"is_rush_hour\", \"mile_distance\", \"urban_address\"]].values\n",
    "y_train = training_data[\"late\"].tolist()\n",
    "\n",
    "# Use n_neighbors = 1\n",
    "# This means the KNN will consider two other \"closest\" records to make a decision.\n",
    "classifier = KNeighborsClassifier(n_neighbors = 1)\n",
    "\n",
    "# Fit the model to our training data\n",
    "classifier.fit(X_train, y_train)"
   ]
  },
  {
   "cell_type": "markdown",
   "metadata": {},
   "source": [
    "Let's check the accuracy on the training data."
   ]
  },
  {
   "cell_type": "code",
   "execution_count": null,
   "metadata": {},
   "outputs": [],
   "source": [
    "from sklearn.metrics import confusion_matrix, classification_report, accuracy_score\n",
    "\n",
    "# Use the fitted model to make predictions on the same dataset we trained the model on\n",
    "train_predictions = classifier.predict(X_train)\n",
    "\n",
    "print('Model evaluation on the training set: \\n')\n",
    "print(confusion_matrix(y_train, train_predictions))\n",
    "print(classification_report(y_train, train_predictions))\n",
    "print(\"Training accuracy:\", accuracy_score(y_train, train_predictions))\n"
   ]
  },
  {
   "cell_type": "markdown",
   "metadata": {},
   "source": [
    "And now, let's check the accuracy on the test data."
   ]
  },
  {
   "cell_type": "code",
   "execution_count": null,
   "metadata": {},
   "outputs": [],
   "source": [
    "from sklearn.metrics import confusion_matrix, classification_report, accuracy_score\n",
    "\n",
    "X_test = test_data[[\"bad_weather\", \"is_rush_hour\", \"mile_distance\", \"urban_address\"]].values\n",
    "y_test = test_data[\"late\"].tolist()\n",
    "\n",
    "# Use the fitted model to make predictions on the test dataset\n",
    "test_predictions = classifier.predict(X_test)\n",
    "\n",
    "print('Model evaluation on the training set: \\n')\n",
    "print(confusion_matrix(y_test, test_predictions))\n",
    "print(classification_report(y_test, test_predictions))\n",
    "print(\"Training accuracy:\", accuracy_score(y_test, test_predictions))\n"
   ]
  }
 ],
 "metadata": {
  "interpreter": {
   "hash": "eba38789ab565d76f074e8fa97ecc7da63eb4a5e1ba28cc348f16f5285783ca7"
  },
  "kernelspec": {
   "display_name": "default:Python",
   "language": "python",
   "name": "python3"
  },
  "language_info": {
   "codemirror_mode": {
    "name": "ipython",
    "version": 3
   },
   "file_extension": ".py",
   "mimetype": "text/x-python",
   "name": "python",
   "nbconvert_exporter": "python",
   "pygments_lexer": "ipython3",
   "version": "3.8.5"
  },
  "toc-showcode": true
 },
 "nbformat": 4,
 "nbformat_minor": 4
}
