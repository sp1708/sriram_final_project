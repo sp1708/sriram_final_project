{
 "cells": [
  {
   "cell_type": "markdown",
   "id": "f60c6220",
   "metadata": {},
   "source": [
    "An example of using GCP vision API to detect handwritten letters in an image. \n",
    "\n",
    "- https://cloud.google.com/functions/docs/tutorials/ocr\n",
    "- https://cloud.google.com/vision/docs/fulltext-annotations"
   ]
  },
  {
   "cell_type": "code",
   "execution_count": null,
   "id": "0b0f25d8-eaae-47a1-bfdd-6c8fcf0fff3d",
   "metadata": {},
   "outputs": [],
   "source": [
    "import io\n",
    "from google.cloud import vision\n",
    "from google.oauth2 import service_account"
   ]
  },
  {
   "cell_type": "code",
   "execution_count": null,
   "id": "4a88a377-90f6-4fa9-9779-62bc505bfabb",
   "metadata": {},
   "outputs": [],
   "source": [
    "# key_path = 'your download key file here'\n",
    "# credentials = service_account.Credentials.from_service_account_file(key_path)\n",
    "key_path = '...'\n",
    "credentials = service_account.Credentials.from_service_account_file(key_path)"
   ]
  },
  {
   "cell_type": "code",
   "execution_count": null,
   "id": "61b5748e-6abb-4919-8597-73eb7648f2ed",
   "metadata": {},
   "outputs": [],
   "source": [
    "def detect_document(path):\n",
    "    \"\"\"Detects document features in an image.\"\"\"\n",
    "    client = vision.ImageAnnotatorClient(credentials=credentials)\n",
    "\n",
    "    with io.open(path, 'rb') as image_file:\n",
    "        content = image_file.read()\n",
    "\n",
    "    image = vision.Image(content=content)\n",
    "\n",
    "    response = client.document_text_detection(image=image)\n",
    "\n",
    "    for page in response.full_text_annotation.pages:\n",
    "        for block in page.blocks:\n",
    "            print('\\nBlock confidence: {}\\n'.format(block.confidence))\n",
    "\n",
    "            for paragraph in block.paragraphs:\n",
    "                print('Paragraph confidence: {}'.format(\n",
    "                    paragraph.confidence))\n",
    "\n",
    "                for word in paragraph.words:\n",
    "                    word_text = ''.join([\n",
    "                        symbol.text for symbol in word.symbols\n",
    "                    ])\n",
    "                    print('Word text: {} (confidence: {})'.format(\n",
    "                        word_text, word.confidence))\n",
    "\n",
    "                    for symbol in word.symbols:\n",
    "                        print('\\tSymbol: {} (confidence: {})'.format(\n",
    "                            symbol.text, symbol.confidence))\n",
    "\n",
    "    if response.error.message:\n",
    "        raise Exception(\n",
    "            '{}\\nFor more info on error messages, check: '\n",
    "            'https://cloud.google.com/apis/design/errors'.format(\n",
    "                response.error.message))"
   ]
  },
  {
   "cell_type": "code",
   "execution_count": null,
   "id": "6f868c03-be09-4fb0-8822-bc3610ab95f0",
   "metadata": {},
   "outputs": [],
   "source": [
    "detect_document('./test.jpg')"
   ]
  }
 ],
 "metadata": {
  "kernelspec": {
   "display_name": "gcp_env:Python",
   "language": "python",
   "name": "conda-env-gcp_env-py"
  },
  "language_info": {
   "codemirror_mode": {
    "name": "ipython",
    "version": 3
   },
   "file_extension": ".py",
   "mimetype": "text/x-python",
   "name": "python",
   "nbconvert_exporter": "python",
   "pygments_lexer": "ipython3",
   "version": "3.8.5"
  }
 },
 "nbformat": 4,
 "nbformat_minor": 5
}
